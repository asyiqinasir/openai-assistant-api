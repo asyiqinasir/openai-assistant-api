{
 "cells": [
  {
   "cell_type": "markdown",
   "id": "41121786-19a7-485f-a076-6b2d66b2188c",
   "metadata": {},
   "source": [
    "I refered to OpenAI CookBook 'Assistants_API_overview_python.ipynb' and made modifications"
   ]
  },
  {
   "cell_type": "markdown",
   "id": "b1e04611-3793-4374-a90d-4648fe9145c3",
   "metadata": {},
   "source": [
    "This notebook shows my attempt to use an existing OpenAI Assistant API with function calling using Python~\n",
    "1. Create/Use an Assistant\n",
    "2. Create/Use a Thread\n",
    "3. Run Thread with Assistant\n",
    "4. Define functions\n",
    "5. Execute function and get response from the Assistant.\n",
    "\n",
    "Earlier on, I have created an Assistant API called \"chettybot\" in OpenAI Playground. \n",
    "Below is the chettybot's id. Create your own :D"
   ]
  },
  {
   "cell_type": "markdown",
   "id": "41e6bf9b-a913-4512-a511-762f985921eb",
   "metadata": {},
   "source": [
    "## Assistants API\n",
    "\n",
    "- `Assistants`, which encapsulate a base model, instructions, tools, and (context) documents,\n",
    "- `Threads`, which represent the state of a conversation, and\n",
    "- `Runs`, which power the execution of an `Assistant` on a `Thread`, including textual responses and multi-step tool use."
   ]
  },
  {
   "cell_type": "code",
   "execution_count": 86,
   "id": "69909e4d-398a-4216-be29-42683b53588c",
   "metadata": {},
   "outputs": [],
   "source": [
    "from dotenv import load_dotenv\n",
    "from utils.modules import *\n",
    "load_dotenv() # Load .env file\n",
    "from openai import OpenAI\n",
    "client = OpenAI() # Initialize OpenAI Client"
   ]
  },
  {
   "cell_type": "code",
   "execution_count": 87,
   "id": "16ff3bd8-d1de-4dc7-a9e9-335b33188ee7",
   "metadata": {},
   "outputs": [],
   "source": [
    "import json\n",
    "\n",
    "def show_json(obj):\n",
    "    display(json.loads(obj.model_dump_json()))"
   ]
  },
  {
   "cell_type": "code",
   "execution_count": 88,
   "id": "1663e01d-bdf0-436b-9c4b-c466dc9dee1d",
   "metadata": {},
   "outputs": [],
   "source": [
    "# Use existing, or create a new one\n",
    "get_existing_assistant = False #set true if want to use existing assistant\n",
    "get_previous_thread = False #set true if want to use existing thread\n",
    "\n",
    "assistant_id_to_use = \"asst_b11XnU3yNtM3CHOOoNKNYOvt\" #ieol\n",
    "thread_id_to_use = \"thread_EbHkQvVh82Ubzfk3eqtmSsVv\" #ieol"
   ]
  },
  {
   "cell_type": "markdown",
   "id": "e43bbb75-eec5-46f3-9e97-383772f8ea55",
   "metadata": {},
   "source": [
    "- Change the flag if u want to create a new assistant."
   ]
  },
  {
   "cell_type": "code",
   "execution_count": 89,
   "id": "0b3b12ba-94b1-48e9-96ff-5a6126a72b83",
   "metadata": {},
   "outputs": [
    {
     "name": "stdout",
     "output_type": "stream",
     "text": [
      "New Assistant created with ID: asst_3qO0sIuWKrdJxSa6qqbVpApV\n"
     ]
    }
   ],
   "source": [
    "if get_existing_assistant:\n",
    "    assistant = get_assistant(client, assistant_id_to_use) # Retrieve Assistant\n",
    "    print(assistant.name + \" is ready~~\")\n",
    "else:\n",
    "    name = \"ChettyBot2\"\n",
    "    description = \"A chatbot for fun.\"\n",
    "    instructions = \"You are a chatty bot who can search weather and search animal. Entertain the user.\"\n",
    "    tools = [{'function': {'name': 'search_weather',\n",
    "    'parameters': {'title': 'WeatherSearch',\n",
    "     'description': 'Call this to get the weather at that location',\n",
    "     'type': 'object',\n",
    "     'properties': {'location': {'title': 'Location',\n",
    "       'description': 'location to get weather for',\n",
    "       'type': 'string'}},\n",
    "     'required': ['location']},\n",
    "    'description': 'Run weather search.'},\n",
    "   'type': 'function'},\n",
    "  {'function': {'name': 'search_animal',\n",
    "    'parameters': {'title': 'AnimalSearch',\n",
    "     'description': 'Call this to get the animal',\n",
    "     'type': 'object',\n",
    "     'properties': {'animal': {'title': 'Animal',\n",
    "       'description': 'animal that is mentioned',\n",
    "       'type': 'string'}},\n",
    "     'required': ['animal']},\n",
    "    'description': 'Run animal search.'},\n",
    "   'type': 'function'}]\n",
    "    assistant = create_assistant(client, name, description, instructions) # Create Assistant\n",
    "    print(\"New Assistant created with ID: \" + assistant.id)"
   ]
  },
  {
   "cell_type": "code",
   "execution_count": 31,
   "id": "e05e47aa-55b2-40c4-96c2-bbf7d13eae2f",
   "metadata": {},
   "outputs": [
    {
     "data": {
      "text/plain": [
       "{'id': 'asst_b11XnU3yNtM3CHOOoNKNYOvt',\n",
       " 'created_at': 1702605089,\n",
       " 'description': None,\n",
       " 'file_ids': [],\n",
       " 'instructions': 'You are a chatty bot who can search weather and search animal. Entertain the user.',\n",
       " 'metadata': {},\n",
       " 'model': 'gpt-3.5-turbo-1106',\n",
       " 'name': 'chettybot',\n",
       " 'object': 'assistant',\n",
       " 'tools': [{'function': {'name': 'search_weather',\n",
       "    'parameters': {'title': 'WeatherSearch',\n",
       "     'description': 'Call this to get the weather at that location',\n",
       "     'type': 'object',\n",
       "     'properties': {'location': {'title': 'Location',\n",
       "       'description': 'location to get weather for',\n",
       "       'type': 'string'}},\n",
       "     'required': ['location']},\n",
       "    'description': 'Run weather search.'},\n",
       "   'type': 'function'},\n",
       "  {'function': {'name': 'search_animal',\n",
       "    'parameters': {'title': 'AnimalSearch',\n",
       "     'description': 'Call this to get the animal',\n",
       "     'type': 'object',\n",
       "     'properties': {'animal': {'title': 'Animal',\n",
       "       'description': 'animal that is mentioned',\n",
       "       'type': 'string'}},\n",
       "     'required': ['animal']},\n",
       "    'description': 'Run animal search.'},\n",
       "   'type': 'function'}]}"
      ]
     },
     "metadata": {},
     "output_type": "display_data"
    }
   ],
   "source": [
    "show_json(assistant)"
   ]
  },
  {
   "cell_type": "code",
   "execution_count": 32,
   "id": "bd66ab36-a4bc-4392-a0ba-79340a072026",
   "metadata": {},
   "outputs": [
    {
     "name": "stdout",
     "output_type": "stream",
     "text": [
      "New chat created with ID: thread_vqX9Bsk254oL4jIrH9bFDmxs\n"
     ]
    }
   ],
   "source": [
    "# Retrieve the previous conversation thread\n",
    "if get_previous_thread:\n",
    "    thread = get_chat(client, thread_id_to_use)\n",
    "    print(\"Chat retrieved with ID: \" + thread.id)\n",
    "    print(thread)\n",
    "else:\n",
    "    thread = start_new_chat(client)\n",
    "    print(\"New chat created with ID: \" + thread.id)"
   ]
  },
  {
   "cell_type": "code",
   "execution_count": 33,
   "id": "10e74a60-312d-49f9-965c-a9a5b3507412",
   "metadata": {},
   "outputs": [
    {
     "data": {
      "text/plain": [
       "{'id': 'thread_vqX9Bsk254oL4jIrH9bFDmxs',\n",
       " 'created_at': 1702882464,\n",
       " 'metadata': {},\n",
       " 'object': 'thread'}"
      ]
     },
     "metadata": {},
     "output_type": "display_data"
    }
   ],
   "source": [
    "show_json(thread)"
   ]
  },
  {
   "cell_type": "markdown",
   "id": "2d58bde8-132c-42c0-8481-b02f39483468",
   "metadata": {},
   "source": [
    "### Create the thread independently (without any assistant)"
   ]
  },
  {
   "cell_type": "code",
   "execution_count": 34,
   "id": "c6650539-2251-41fa-b8fd-574afe1be03a",
   "metadata": {},
   "outputs": [
    {
     "data": {
      "text/plain": [
       "{'id': 'msg_rh8mQvR9Xoq5vAep8ifaciI0',\n",
       " 'assistant_id': None,\n",
       " 'content': [{'text': {'annotations': [], 'value': 'What is your name?'},\n",
       "   'type': 'text'}],\n",
       " 'created_at': 1702882465,\n",
       " 'file_ids': [],\n",
       " 'metadata': {},\n",
       " 'object': 'thread.message',\n",
       " 'role': 'user',\n",
       " 'run_id': None,\n",
       " 'thread_id': 'thread_vqX9Bsk254oL4jIrH9bFDmxs'}"
      ]
     },
     "metadata": {},
     "output_type": "display_data"
    }
   ],
   "source": [
    "message = client.beta.threads.messages.create(\n",
    "    thread_id=thread.id,\n",
    "    role=\"user\",\n",
    "    content=\"What is your name?\",\n",
    ")\n",
    "show_json(message)"
   ]
  },
  {
   "cell_type": "markdown",
   "id": "0ab58af1-04e2-443e-9359-988de37cab13",
   "metadata": {},
   "source": [
    "This shows that a thread can exist independently without an Assistant. \n",
    "- This is useful so that we can allow any Assistant to look at the messages in the thread."
   ]
  },
  {
   "cell_type": "markdown",
   "id": "7718b1bf-7c4d-46f1-9f31-0aa6d9a9a3ec",
   "metadata": {},
   "source": [
    "### Run the thread with the Assistant\n",
    "map assistant_id=assistant.id "
   ]
  },
  {
   "cell_type": "code",
   "execution_count": 35,
   "id": "e4be5564-4ee8-4411-b536-7689ee8c2cc0",
   "metadata": {},
   "outputs": [
    {
     "data": {
      "text/plain": [
       "{'id': 'run_rV9JGHyHXqphPtfdolyGH065',\n",
       " 'assistant_id': 'asst_b11XnU3yNtM3CHOOoNKNYOvt',\n",
       " 'cancelled_at': None,\n",
       " 'completed_at': None,\n",
       " 'created_at': 1702882467,\n",
       " 'expires_at': 1702883067,\n",
       " 'failed_at': None,\n",
       " 'file_ids': [],\n",
       " 'instructions': 'You are a chatty bot who can search weather and search animal. Entertain the user.',\n",
       " 'last_error': None,\n",
       " 'metadata': {},\n",
       " 'model': 'gpt-3.5-turbo-1106',\n",
       " 'object': 'thread.run',\n",
       " 'required_action': None,\n",
       " 'started_at': None,\n",
       " 'status': 'queued',\n",
       " 'thread_id': 'thread_vqX9Bsk254oL4jIrH9bFDmxs',\n",
       " 'tools': [{'function': {'name': 'search_weather',\n",
       "    'parameters': {'title': 'WeatherSearch',\n",
       "     'description': 'Call this to get the weather at that location',\n",
       "     'type': 'object',\n",
       "     'properties': {'location': {'title': 'Location',\n",
       "       'description': 'location to get weather for',\n",
       "       'type': 'string'}},\n",
       "     'required': ['location']},\n",
       "    'description': 'Run weather search.'},\n",
       "   'type': 'function'},\n",
       "  {'function': {'name': 'search_animal',\n",
       "    'parameters': {'title': 'AnimalSearch',\n",
       "     'description': 'Call this to get the animal',\n",
       "     'type': 'object',\n",
       "     'properties': {'animal': {'title': 'Animal',\n",
       "       'description': 'animal that is mentioned',\n",
       "       'type': 'string'}},\n",
       "     'required': ['animal']},\n",
       "    'description': 'Run animal search.'},\n",
       "   'type': 'function'}]}"
      ]
     },
     "metadata": {},
     "output_type": "display_data"
    }
   ],
   "source": [
    "run = client.beta.threads.runs.create(\n",
    "    thread_id=thread.id,\n",
    "    assistant_id=assistant.id,\n",
    ")\n",
    "show_json(run)"
   ]
  },
  {
   "cell_type": "markdown",
   "id": "d32ce3dc-c870-4ea3-9ef4-129f73ddd455",
   "metadata": {},
   "source": [
    "Now, the thread is being attached to the Assistant. Observe the 'assistant_id', and notice that the status is 'queued'. \n",
    "No messages is being sent yet at this point."
   ]
  },
  {
   "cell_type": "markdown",
   "id": "8afecbeb-4a16-4cee-a5dd-2a279b849750",
   "metadata": {},
   "source": [
    "To get a completion from an Assistant for a given Thread, we must create a Run. Creating a Run will indicate to an Assistant it should look at the messages in the Thread and take action: either by adding a single response, or using tools.\n",
    "\n",
    "> **Note**\n",
    "> Runs are a key difference between the Assistants API and Chat Completions API. While in Chat Completions the model will only ever respond with a single message, in the Assistants API a Run may result in an Assistant using one or multiple tools, and potentially adding multiple messages to the Thread.\n",
    "\n",
    "To get our Assistant to respond to the user, let's create the Run. As mentioned earlier, you must specify _both_ the Assistant and the Thread.\n"
   ]
  },
  {
   "cell_type": "markdown",
   "id": "2db8c0ed-5dc6-4be5-a878-363dc8ae228e",
   "metadata": {},
   "source": [
    "### Run"
   ]
  },
  {
   "cell_type": "code",
   "execution_count": 36,
   "id": "ae4d0979-4728-4d9e-9686-ebf2ac66bbdd",
   "metadata": {},
   "outputs": [],
   "source": [
    "import time\n",
    "\n",
    "def wait_on_run(run, thread):\n",
    "    while run.status == \"queued\" or run.status == \"in_progress\":\n",
    "        run = client.beta.threads.runs.retrieve(\n",
    "            thread_id=thread.id,\n",
    "            run_id=run.id,\n",
    "        )\n",
    "        time.sleep(0.5)\n",
    "    return run"
   ]
  },
  {
   "cell_type": "code",
   "execution_count": 37,
   "id": "82aecee3-ec42-4838-a015-dae50c6204b8",
   "metadata": {},
   "outputs": [
    {
     "data": {
      "text/plain": [
       "{'id': 'run_rV9JGHyHXqphPtfdolyGH065',\n",
       " 'assistant_id': 'asst_b11XnU3yNtM3CHOOoNKNYOvt',\n",
       " 'cancelled_at': None,\n",
       " 'completed_at': 1702882469,\n",
       " 'created_at': 1702882467,\n",
       " 'expires_at': None,\n",
       " 'failed_at': None,\n",
       " 'file_ids': [],\n",
       " 'instructions': 'You are a chatty bot who can search weather and search animal. Entertain the user.',\n",
       " 'last_error': None,\n",
       " 'metadata': {},\n",
       " 'model': 'gpt-3.5-turbo-1106',\n",
       " 'object': 'thread.run',\n",
       " 'required_action': None,\n",
       " 'started_at': 1702882467,\n",
       " 'status': 'completed',\n",
       " 'thread_id': 'thread_vqX9Bsk254oL4jIrH9bFDmxs',\n",
       " 'tools': [{'function': {'name': 'search_weather',\n",
       "    'parameters': {'title': 'WeatherSearch',\n",
       "     'description': 'Call this to get the weather at that location',\n",
       "     'type': 'object',\n",
       "     'properties': {'location': {'title': 'Location',\n",
       "       'description': 'location to get weather for',\n",
       "       'type': 'string'}},\n",
       "     'required': ['location']},\n",
       "    'description': 'Run weather search.'},\n",
       "   'type': 'function'},\n",
       "  {'function': {'name': 'search_animal',\n",
       "    'parameters': {'title': 'AnimalSearch',\n",
       "     'description': 'Call this to get the animal',\n",
       "     'type': 'object',\n",
       "     'properties': {'animal': {'title': 'Animal',\n",
       "       'description': 'animal that is mentioned',\n",
       "       'type': 'string'}},\n",
       "     'required': ['animal']},\n",
       "    'description': 'Run animal search.'},\n",
       "   'type': 'function'}]}"
      ]
     },
     "metadata": {},
     "output_type": "display_data"
    }
   ],
   "source": [
    "run = wait_on_run(run, thread)\n",
    "show_json(run)"
   ]
  },
  {
   "cell_type": "markdown",
   "id": "522cf771-c9ec-479d-99bf-b2d765e8eb7a",
   "metadata": {},
   "source": [
    "### Messages\n",
    "Now that the Run has completed, we can list the Messages in the Thread to see what got added by the Assistant."
   ]
  },
  {
   "cell_type": "code",
   "execution_count": 38,
   "id": "74244f36-a5d3-4424-9515-1acf69f8e5eb",
   "metadata": {},
   "outputs": [
    {
     "data": {
      "text/plain": [
       "{'data': [{'id': 'msg_f163RNptFeZhNSRXnCncD321',\n",
       "   'assistant_id': 'asst_b11XnU3yNtM3CHOOoNKNYOvt',\n",
       "   'content': [{'text': {'annotations': [],\n",
       "      'value': 'Hello there! You can call me Chatty Bot. What can I do for you today?'},\n",
       "     'type': 'text'}],\n",
       "   'created_at': 1702882468,\n",
       "   'file_ids': [],\n",
       "   'metadata': {},\n",
       "   'object': 'thread.message',\n",
       "   'role': 'assistant',\n",
       "   'run_id': 'run_rV9JGHyHXqphPtfdolyGH065',\n",
       "   'thread_id': 'thread_vqX9Bsk254oL4jIrH9bFDmxs'},\n",
       "  {'id': 'msg_rh8mQvR9Xoq5vAep8ifaciI0',\n",
       "   'assistant_id': None,\n",
       "   'content': [{'text': {'annotations': [], 'value': 'What is your name?'},\n",
       "     'type': 'text'}],\n",
       "   'created_at': 1702882465,\n",
       "   'file_ids': [],\n",
       "   'metadata': {},\n",
       "   'object': 'thread.message',\n",
       "   'role': 'user',\n",
       "   'run_id': None,\n",
       "   'thread_id': 'thread_vqX9Bsk254oL4jIrH9bFDmxs'}],\n",
       " 'object': 'list',\n",
       " 'first_id': 'msg_f163RNptFeZhNSRXnCncD321',\n",
       " 'last_id': 'msg_rh8mQvR9Xoq5vAep8ifaciI0',\n",
       " 'has_more': False}"
      ]
     },
     "metadata": {},
     "output_type": "display_data"
    }
   ],
   "source": [
    "messages = client.beta.threads.messages.list(thread_id=thread.id)\n",
    "show_json(messages)"
   ]
  },
  {
   "cell_type": "markdown",
   "id": "dee6903a-09b8-4837-9c21-aa60f4626a99",
   "metadata": {},
   "source": [
    "Above is showing the history of the conversation (this is called 'thread'). \n",
    "- Notice that the latest message is at the top. This helps because you can always just choose to print the *very first* element of the content collection. a.k.a `content[0].text.value`.\n",
    "- Wtv it is, you can still change the sort order to \"desc\" if you want to~"
   ]
  },
  {
   "cell_type": "code",
   "execution_count": 39,
   "id": "78952927-56c8-48ac-b0dd-c3e410e2fdf8",
   "metadata": {},
   "outputs": [
    {
     "data": {
      "text/plain": [
       "{'data': [{'id': 'msg_tbsVS4FTraNcNnVNjF0mNXyx',\n",
       "   'assistant_id': 'asst_b11XnU3yNtM3CHOOoNKNYOvt',\n",
       "   'content': [{'text': {'annotations': [],\n",
       "      'value': \"Of course, I'd be happy to explain it to you! What specifically would you like me to explain?\"},\n",
       "     'type': 'text'}],\n",
       "   'created_at': 1702882477,\n",
       "   'file_ids': [],\n",
       "   'metadata': {},\n",
       "   'object': 'thread.message',\n",
       "   'role': 'assistant',\n",
       "   'run_id': 'run_CPXO3iDFRg4d7EBUpeUAoPCv',\n",
       "   'thread_id': 'thread_vqX9Bsk254oL4jIrH9bFDmxs'}],\n",
       " 'object': 'list',\n",
       " 'first_id': 'msg_tbsVS4FTraNcNnVNjF0mNXyx',\n",
       " 'last_id': 'msg_tbsVS4FTraNcNnVNjF0mNXyx',\n",
       " 'has_more': False}"
      ]
     },
     "metadata": {},
     "output_type": "display_data"
    }
   ],
   "source": [
    "# Create a message to append to our thread\n",
    "message = client.beta.threads.messages.create(\n",
    "    thread_id=thread.id, role=\"user\", content=\"Could you explain this to me?\"\n",
    ")\n",
    "\n",
    "# Execute our run\n",
    "run = client.beta.threads.runs.create(\n",
    "    thread_id=thread.id,\n",
    "    assistant_id=assistant.id,\n",
    ")\n",
    "\n",
    "# Wait for completion\n",
    "wait_on_run(run, thread)\n",
    "\n",
    "# Retrieve all the messages added after our last user message\n",
    "messages = client.beta.threads.messages.list(\n",
    "    thread_id=thread.id, order=\"asc\", after=message.id\n",
    ")\n",
    "show_json(messages)"
   ]
  },
  {
   "cell_type": "markdown",
   "id": "6994ea48-ec85-4cc3-aea5-02ca3a4b0411",
   "metadata": {},
   "source": [
    "Notice: It can be a bad request if the assistant is waiting for your response (e.g if they use function calling, and is waiting for ur input). You cannot run a new message if this occurs. "
   ]
  },
  {
   "cell_type": "markdown",
   "id": "eec03a01-91ce-4551-965d-9ccfaf0ea8a3",
   "metadata": {},
   "source": [
    "## Example"
   ]
  },
  {
   "cell_type": "markdown",
   "id": "0c1c8516-e23f-4dfe-9508-764c5043e549",
   "metadata": {},
   "source": [
    "- `submit_message`: create a Message on a Thread, then start (and return) a new Run\n",
    "- `get_response`: returns the list of Messages in a Thread"
   ]
  },
  {
   "cell_type": "code",
   "execution_count": 40,
   "id": "1d6fd153-51fe-4498-92a1-cb8ccfcbcaa0",
   "metadata": {},
   "outputs": [],
   "source": [
    "from openai import OpenAI\n",
    "\n",
    "ASSISTANT_ID = assistant.id  # or a hard-coded ID like \"asst-...\"\n",
    "\n",
    "client = OpenAI()\n",
    "\n",
    "def submit_message(assistant_id, thread, user_message):\n",
    "    client.beta.threads.messages.create(\n",
    "        thread_id=thread.id, role=\"user\", content=user_message\n",
    "    )\n",
    "    return client.beta.threads.runs.create(\n",
    "        thread_id=thread.id,\n",
    "        assistant_id=assistant_id,\n",
    "    )\n",
    "\n",
    "\n",
    "def get_response(thread):\n",
    "    return client.beta.threads.messages.list(thread_id=thread.id, order=\"asc\")"
   ]
  },
  {
   "cell_type": "markdown",
   "id": "23c0698c-4caa-4991-b9e7-eb60a1d313cd",
   "metadata": {},
   "source": [
    "I've also defined a `create_thread_and_run` function that I can re-use (which is actually almost identical to the [`client.beta.threads.create_and_run`](https://platform.openai.com/docs/api-reference/runs/createThreadAndRun) compound function in our API ;) )."
   ]
  },
  {
   "cell_type": "code",
   "execution_count": 43,
   "id": "244afb72-0834-49bc-8e28-ecbdd928948d",
   "metadata": {},
   "outputs": [],
   "source": [
    "def create_thread_and_run(user_input):\n",
    "    thread = client.beta.threads.create()\n",
    "    run = submit_message(ASSISTANT_ID, thread, user_input)\n",
    "    return thread, run\n",
    "\n",
    "\n",
    "# Emulating concurrent user requests\n",
    "thread1, run1 = create_thread_and_run(\n",
    "    \"What are you capable of?\"\n",
    ")\n",
    "thread2, run2 = create_thread_and_run(\"I don't like you. What can I do?\")\n",
    "\n",
    "# Now all Runs are executing..."
   ]
  },
  {
   "cell_type": "code",
   "execution_count": 44,
   "id": "8fc849d2-66e6-473c-94a8-f207ad36370e",
   "metadata": {},
   "outputs": [
    {
     "name": "stdout",
     "output_type": "stream",
     "text": [
      "# Messages\n",
      "user: What are you capable of?\n",
      "assistant: I can search for the weather and look up information about animals! Just let me know what you're curious about, and I'll be happy to help.\n",
      "\n",
      "# Messages\n",
      "user: I don't like you. What can I do?\n",
      "assistant: That's okay! You can ask me to search for the weather in a specific location, or you can ask me to search for an animal. I'm here to help with whatever you need!\n",
      "\n",
      "# Messages\n",
      "user: I don't like you. What can I do?\n",
      "assistant: That's okay! You can ask me to search for the weather in a specific location, or you can ask me to search for an animal. I'm here to help with whatever you need!\n",
      "user: Thank you!\n",
      "assistant: You're welcome! Feel free to ask me anything, I'm here to help entertain and assist you.\n",
      "\n"
     ]
    }
   ],
   "source": [
    "import time\n",
    "\n",
    "# Pretty printing helper\n",
    "def pretty_print(messages):\n",
    "    print(\"# Messages\")\n",
    "    for m in messages:\n",
    "        print(f\"{m.role}: {m.content[0].text.value}\")\n",
    "    print()\n",
    "\n",
    "\n",
    "# Waiting in a loop\n",
    "def wait_on_run(run, thread):\n",
    "    while run.status == \"queued\" or run.status == \"in_progress\":\n",
    "        run = client.beta.threads.runs.retrieve(\n",
    "            thread_id=thread.id,\n",
    "            run_id=run.id,\n",
    "        )\n",
    "        time.sleep(0.5)\n",
    "    return run\n",
    "\n",
    "\n",
    "# Wait for Run 1\n",
    "run1 = wait_on_run(run1, thread1)\n",
    "pretty_print(get_response(thread1))\n",
    "\n",
    "# Wait for Run 2\n",
    "run2 = wait_on_run(run2, thread2)\n",
    "pretty_print(get_response(thread2))\n",
    "\n",
    "# Thank our assistant on Thread 3 :)\n",
    "run3 = submit_message(ASSISTANT_ID, thread2, \"Thank you!\")\n",
    "run3 = wait_on_run(run3, thread2)\n",
    "pretty_print(get_response(thread2))"
   ]
  },
  {
   "cell_type": "markdown",
   "id": "961b4bc6-7506-4548-a19d-65729916c977",
   "metadata": {},
   "source": [
    "# Function Calling"
   ]
  },
  {
   "cell_type": "markdown",
   "id": "668b6a83-203f-4bc7-a354-72e4e30677db",
   "metadata": {},
   "source": [
    "At below, (`'tools': [{'function': {'name':`) you can see that the Assistant has 2 functions listed; 'search_weather' & 'search_animal'. \n",
    "Assistant should be able to identify which function to call, depending on the User's input.\n",
    "- Once the Assistant identify the appropriate function to call, it requires YOUR action to execute it."
   ]
  },
  {
   "cell_type": "code",
   "execution_count": 45,
   "id": "8e8e3342-cb86-4eb2-95b6-231f8efa7263",
   "metadata": {},
   "outputs": [
    {
     "data": {
      "text/plain": [
       "{'id': 'asst_b11XnU3yNtM3CHOOoNKNYOvt',\n",
       " 'created_at': 1702605089,\n",
       " 'description': None,\n",
       " 'file_ids': [],\n",
       " 'instructions': 'You are a chatty bot who can search weather and search animal. Entertain the user.',\n",
       " 'metadata': {},\n",
       " 'model': 'gpt-3.5-turbo-1106',\n",
       " 'name': 'chettybot',\n",
       " 'object': 'assistant',\n",
       " 'tools': [{'function': {'name': 'search_weather',\n",
       "    'parameters': {'title': 'WeatherSearch',\n",
       "     'description': 'Call this to get the weather at that location',\n",
       "     'type': 'object',\n",
       "     'properties': {'location': {'title': 'Location',\n",
       "       'description': 'location to get weather for',\n",
       "       'type': 'string'}},\n",
       "     'required': ['location']},\n",
       "    'description': 'Run weather search.'},\n",
       "   'type': 'function'},\n",
       "  {'function': {'name': 'search_animal',\n",
       "    'parameters': {'title': 'AnimalSearch',\n",
       "     'description': 'Call this to get the animal',\n",
       "     'type': 'object',\n",
       "     'properties': {'animal': {'title': 'Animal',\n",
       "       'description': 'animal that is mentioned',\n",
       "       'type': 'string'}},\n",
       "     'required': ['animal']},\n",
       "    'description': 'Run animal search.'},\n",
       "   'type': 'function'}]}"
      ]
     },
     "metadata": {},
     "output_type": "display_data"
    }
   ],
   "source": [
    "show_json(assistant)"
   ]
  },
  {
   "cell_type": "code",
   "execution_count": 46,
   "id": "8aa204a5-8978-465c-ae9a-3c96c39082db",
   "metadata": {},
   "outputs": [],
   "source": [
    "def search_weather(location: str) -> str:\n",
    "    \"\"\"Run weather search.\"\"\"\n",
    "    return \"i am weather bob\" #just a simple one. just to test"
   ]
  },
  {
   "cell_type": "code",
   "execution_count": 47,
   "id": "59120043-60ff-4dd8-a12e-201c70a48341",
   "metadata": {},
   "outputs": [],
   "source": [
    "def search_animal(animal: str) -> str:\n",
    "    \"\"\"Run animal search.\"\"\"\n",
    "    return \"i am a pink panther\" #just a simple one. just to test"
   ]
  },
  {
   "cell_type": "code",
   "execution_count": 48,
   "id": "7411e017-841e-4b42-b597-f23eda2a3669",
   "metadata": {},
   "outputs": [],
   "source": [
    "available_functions = {\n",
    "    \"search_weather\": search_weather,\n",
    "    \"search_animal\": search_animal\n",
    "}"
   ]
  },
  {
   "cell_type": "code",
   "execution_count": 49,
   "id": "a3704349-e5cb-4310-9a24-a496858f8d73",
   "metadata": {},
   "outputs": [
    {
     "data": {
      "text/plain": [
       "{'search_weather': <function __main__.search_weather(location: str) -> str>,\n",
       " 'search_animal': <function __main__.search_animal(animal: str) -> str>}"
      ]
     },
     "execution_count": 49,
     "metadata": {},
     "output_type": "execute_result"
    }
   ],
   "source": [
    "available_functions"
   ]
  },
  {
   "cell_type": "code",
   "execution_count": 51,
   "id": "614660d3-d268-4dbe-b54a-ada15f431142",
   "metadata": {},
   "outputs": [],
   "source": [
    "functions = [\n",
    "    {\n",
    "        \"name\": \"search_weather\",\n",
    "        \"description\": \"Run weather search.\",\n",
    "        \"parameters\": {\n",
    "            \"title\": \"WeatherSearch\",\n",
    "            \"description\": \"Call this to get the weather at that location\",\n",
    "            \"type\": \"object\",\n",
    "            \"properties\": {\n",
    "                \"location\": {\n",
    "                    \"title\": \"Location\",\n",
    "                    \"description\": \"location to get weather for\",\n",
    "                    \"type\": \"string\"\n",
    "                }\n",
    "            },\n",
    "            \"required\": [\"location\"]\n",
    "        }\n",
    "    },\n",
    "    {\n",
    "        \"name\": \"search_animal\",\n",
    "        \"description\": \"Run animal search.\",\n",
    "        \"parameters\": {\n",
    "            \"title\": \"AnimalSearch\",\n",
    "            \"description\": \"Call this to get the animal\",\n",
    "            \"type\": \"object\",\n",
    "            \"properties\": {\n",
    "                \"animal\": {\n",
    "                    \"title\": \"Animal\",\n",
    "                    \"description\": \"animal that is mentioned\",\n",
    "                    \"type\": \"string\"\n",
    "                }\n",
    "            },\n",
    "            \"required\": [\"animal\"]\n",
    "        }\n",
    "    }\n",
    "]"
   ]
  },
  {
   "cell_type": "code",
   "execution_count": 58,
   "id": "26bbecaa-c280-4c3b-84a9-dc036ec23a91",
   "metadata": {},
   "outputs": [],
   "source": [
    "def execute_function_call(function_name, arguments):\n",
    "\n",
    "    # Retrieve the function object using the function name\n",
    "    function = available_functions.get(function_name, None)\n",
    "    \n",
    "    if function:\n",
    "        # Call the function object with the arguments\n",
    "        results = function(**arguments)\n",
    "    else:\n",
    "        results = f\"Error: function {function_name} does not exist\"\n",
    "    \n",
    "    return results"
   ]
  },
  {
   "cell_type": "markdown",
   "id": "656d1058-2faa-4b3c-9000-cbb730e77e6c",
   "metadata": {},
   "source": [
    "The above function is important. You need it to execute the chosen function. (Chosen function means the function that the model calls/chooses to execute and get results from. \n",
    "- model will choose which function to call\n",
    "- after it has chosen, it will wait for YOUR ACTION\n",
    "- Your action is to execute the 'chosen' function and arguments. \n"
   ]
  },
  {
   "cell_type": "markdown",
   "id": "98f9a1ae-bf0a-4389-b0d0-31d4e714d2a6",
   "metadata": {},
   "source": [
    "### What does a monkey eat? (Attempt 1)"
   ]
  },
  {
   "cell_type": "code",
   "execution_count": 52,
   "id": "4155f827-abb8-41dc-bad0-1c576afb6a8b",
   "metadata": {},
   "outputs": [
    {
     "data": {
      "text/plain": [
       "'requires_action'"
      ]
     },
     "execution_count": 52,
     "metadata": {},
     "output_type": "execute_result"
    }
   ],
   "source": [
    "thread, run = create_thread_and_run(\n",
    "    \"What does a monkey eat?\"\n",
    ")\n",
    "run = wait_on_run(run, thread)\n",
    "run.status"
   ]
  },
  {
   "cell_type": "code",
   "execution_count": 53,
   "id": "4ad0089c-6f6c-4ed5-8dfc-4f7b822cf4eb",
   "metadata": {},
   "outputs": [
    {
     "data": {
      "text/plain": [
       "{'id': 'run_MoUoPUBrf7bLWBkix3z0b0T1',\n",
       " 'assistant_id': 'asst_b11XnU3yNtM3CHOOoNKNYOvt',\n",
       " 'cancelled_at': None,\n",
       " 'completed_at': None,\n",
       " 'created_at': 1702883215,\n",
       " 'expires_at': 1702883815,\n",
       " 'failed_at': None,\n",
       " 'file_ids': [],\n",
       " 'instructions': 'You are a chatty bot who can search weather and search animal. Entertain the user.',\n",
       " 'last_error': None,\n",
       " 'metadata': {},\n",
       " 'model': 'gpt-3.5-turbo-1106',\n",
       " 'object': 'thread.run',\n",
       " 'required_action': {'submit_tool_outputs': {'tool_calls': [{'id': 'call_FGeyMadxv5C8Oh7reRYuCDlf',\n",
       "     'function': {'arguments': '{\"animal\":\"monkey\"}', 'name': 'search_animal'},\n",
       "     'type': 'function'}]},\n",
       "  'type': 'submit_tool_outputs'},\n",
       " 'started_at': 1702883216,\n",
       " 'status': 'requires_action',\n",
       " 'thread_id': 'thread_a046oX3s1rOmZ6r54lcASoTq',\n",
       " 'tools': [{'function': {'name': 'search_weather',\n",
       "    'parameters': {'title': 'WeatherSearch',\n",
       "     'description': 'Call this to get the weather at that location',\n",
       "     'type': 'object',\n",
       "     'properties': {'location': {'title': 'Location',\n",
       "       'description': 'location to get weather for',\n",
       "       'type': 'string'}},\n",
       "     'required': ['location']},\n",
       "    'description': 'Run weather search.'},\n",
       "   'type': 'function'},\n",
       "  {'function': {'name': 'search_animal',\n",
       "    'parameters': {'title': 'AnimalSearch',\n",
       "     'description': 'Call this to get the animal',\n",
       "     'type': 'object',\n",
       "     'properties': {'animal': {'title': 'Animal',\n",
       "       'description': 'animal that is mentioned',\n",
       "       'type': 'string'}},\n",
       "     'required': ['animal']},\n",
       "    'description': 'Run animal search.'},\n",
       "   'type': 'function'}]}"
      ]
     },
     "metadata": {},
     "output_type": "display_data"
    }
   ],
   "source": [
    "show_json(run)"
   ]
  },
  {
   "cell_type": "markdown",
   "id": "95f75956-d937-4ac4-9ec1-0a211001932c",
   "metadata": {},
   "source": [
    "The 'required_action' field --> `'required_action': {'submit_tool_outputs': {'tool_calls': [{'id': 'call_4ikV54J3AGKYwBVCsdLwesU8',\n",
    "     'function': {'arguments': '{\"animal\":\"elephant\"}',\n",
    "      'name': 'search_animal'},\n",
    "     'type': 'function'}]},\n",
    "  'type': 'submit_tool_outputs'},\n",
    " 'started_at': 1702869449,\n",
    " 'status': 'requires_action',\n",
    "`\n",
    "\n",
    "field indicates a Tool is waiting for us to run it and submit its output back to the Assistant.\n",
    "It is calling for the 'search_animal' function. You need to parse the 'name' and 'arguments'."
   ]
  },
  {
   "cell_type": "markdown",
   "id": "1f85e357-6e25-49bb-a705-681bdbc99e55",
   "metadata": {},
   "source": [
    "#### Lets check out the chosen function_name and the arguments"
   ]
  },
  {
   "cell_type": "code",
   "execution_count": 54,
   "id": "b7238af0-885f-41e2-9771-33e5ef2d109a",
   "metadata": {},
   "outputs": [
    {
     "name": "stdout",
     "output_type": "stream",
     "text": [
      "Function Name: search_animal\n",
      "Function Arguments:\n"
     ]
    },
    {
     "data": {
      "text/plain": [
       "{'animal': 'monkey'}"
      ]
     },
     "execution_count": 54,
     "metadata": {},
     "output_type": "execute_result"
    }
   ],
   "source": [
    "# Extract single tool call\n",
    "tool_call = run.required_action.submit_tool_outputs.tool_calls[0]\n",
    "function_name = tool_call.function.name\n",
    "arguments = json.loads(tool_call.function.arguments)\n",
    "\n",
    "print(\"Function Name:\", function_name)\n",
    "print(\"Function Arguments:\")\n",
    "arguments"
   ]
  },
  {
   "cell_type": "code",
   "execution_count": 55,
   "id": "728e260f-285a-4583-9daf-2d1fde18fd7b",
   "metadata": {},
   "outputs": [
    {
     "data": {
      "text/plain": [
       "{'animal': 'monkey'}"
      ]
     },
     "execution_count": 55,
     "metadata": {},
     "output_type": "execute_result"
    }
   ],
   "source": [
    "arguments"
   ]
  },
  {
   "cell_type": "code",
   "execution_count": 56,
   "id": "19f8abc0-f9c2-418a-b114-9e969ca8252a",
   "metadata": {},
   "outputs": [
    {
     "data": {
      "text/plain": [
       "'search_animal'"
      ]
     },
     "execution_count": 56,
     "metadata": {},
     "output_type": "execute_result"
    }
   ],
   "source": [
    "function_name"
   ]
  },
  {
   "cell_type": "markdown",
   "id": "235310a9-6637-443b-b9c7-7b6a8d9110b8",
   "metadata": {},
   "source": [
    "#### Run 'execute_function_call' to get the result of the function"
   ]
  },
  {
   "cell_type": "code",
   "execution_count": 59,
   "id": "652aa157-ad9f-4fdd-91fb-b61948da4e0b",
   "metadata": {},
   "outputs": [
    {
     "data": {
      "text/plain": [
       "'i am a pink panther'"
      ]
     },
     "execution_count": 59,
     "metadata": {},
     "output_type": "execute_result"
    }
   ],
   "source": [
    "function_response = execute_function_call(function_name, arguments)\n",
    "function_response"
   ]
  },
  {
   "cell_type": "code",
   "execution_count": 60,
   "id": "c74e6905-f782-472d-aff0-48cdfa7b0028",
   "metadata": {},
   "outputs": [
    {
     "data": {
      "text/plain": [
       "'\"i am a pink panther\"'"
      ]
     },
     "execution_count": 60,
     "metadata": {},
     "output_type": "execute_result"
    }
   ],
   "source": [
    "json.dumps(function_response)"
   ]
  },
  {
   "cell_type": "code",
   "execution_count": 61,
   "id": "908f9f7c-a6d9-4cb0-a607-524e72c80319",
   "metadata": {},
   "outputs": [
    {
     "data": {
      "text/plain": [
       "'requires_action'"
      ]
     },
     "execution_count": 61,
     "metadata": {},
     "output_type": "execute_result"
    }
   ],
   "source": [
    "run.status"
   ]
  },
  {
   "cell_type": "code",
   "execution_count": 65,
   "id": "6e371e0f-4cb9-4bda-a4b5-89ed9878380d",
   "metadata": {},
   "outputs": [
    {
     "data": {
      "text/plain": [
       "'i am a pink panther'"
      ]
     },
     "execution_count": 65,
     "metadata": {},
     "output_type": "execute_result"
    }
   ],
   "source": [
    "function_response"
   ]
  },
  {
   "cell_type": "markdown",
   "id": "c1618e7e-ed1a-4e63-bfbe-3f4f1a5b8cfc",
   "metadata": {},
   "source": [
    "#### Submit these arguments to the Assistant. \n",
    "We'll need the `tool_call` ID, found in the `tool_call` we parsed out earlier. We'll also need to encode our `list`of responses into a `str`."
   ]
  },
  {
   "cell_type": "code",
   "execution_count": 62,
   "id": "53c0630e-6b71-43b9-8e28-bd0ba08afc1a",
   "metadata": {},
   "outputs": [],
   "source": [
    "run = client.beta.threads.runs.submit_tool_outputs(\n",
    "    thread_id=thread.id,\n",
    "    run_id=run.id,\n",
    "    tool_outputs=[\n",
    "        {\n",
    "            \"tool_call_id\": tool_call.id,\n",
    "            \"output\": json.dumps(function_response),\n",
    "        }\n",
    "    ],\n",
    ")\n",
    "#show_json(run)"
   ]
  },
  {
   "cell_type": "code",
   "execution_count": 63,
   "id": "12be43b3-abdc-43ab-aa7f-a810bfaa1b75",
   "metadata": {},
   "outputs": [
    {
     "data": {
      "text/plain": [
       "'queued'"
      ]
     },
     "execution_count": 63,
     "metadata": {},
     "output_type": "execute_result"
    }
   ],
   "source": [
    "run.status"
   ]
  },
  {
   "cell_type": "code",
   "execution_count": 64,
   "id": "5401e7f9-dc0d-4ea0-88fa-6407f1d77fef",
   "metadata": {},
   "outputs": [
    {
     "name": "stdout",
     "output_type": "stream",
     "text": [
      "# Messages\n",
      "user: What does a monkey eat?\n",
      "assistant: Oops! Looks like there's been a mix-up. Let me try that again.\n",
      "\n"
     ]
    }
   ],
   "source": [
    "run = wait_on_run(run, thread)\n",
    "pretty_print(get_response(thread))"
   ]
  },
  {
   "cell_type": "markdown",
   "id": "fa98d67b-f7e7-4edf-8519-c5c5c4979e6e",
   "metadata": {},
   "source": [
    "Weird? The Assistant should have replied with a fixed *function response* that says \"i am a pink panther...\". However, it did not return this response. I assume because it first determines whether the response is appropriate with the question asked by the User: \"What does a monkey eat?\".\n",
    "When the Assistant found that the *'function response' answer* is not relevant to the question, it will come up with some other response. (Probably it is its fallback mechanism?)"
   ]
  },
  {
   "cell_type": "markdown",
   "id": "3b0ffabf-f95b-40c2-9826-4741ea7a8a89",
   "metadata": {},
   "source": [
    "### What does a monkey eat? (Attempt 2)"
   ]
  },
  {
   "cell_type": "markdown",
   "id": "2495f038-9671-48e0-9dd8-aadf45748f73",
   "metadata": {},
   "source": [
    "In attempt to observe whether the Assistant accepts the function response, lets try to input a relevant (hard-coded) answer."
   ]
  },
  {
   "cell_type": "code",
   "execution_count": 79,
   "id": "b02f77b4-465f-4c03-a233-ffd45b2144d3",
   "metadata": {},
   "outputs": [
    {
     "data": {
      "text/plain": [
       "'requires_action'"
      ]
     },
     "execution_count": 79,
     "metadata": {},
     "output_type": "execute_result"
    }
   ],
   "source": [
    "thread, run = create_thread_and_run(\n",
    "    \"What does a monkey eat?\"\n",
    ")\n",
    "run = wait_on_run(run, thread)\n",
    "run.status"
   ]
  },
  {
   "cell_type": "code",
   "execution_count": 80,
   "id": "226b3747-dce0-4c01-b473-d66ff979d3de",
   "metadata": {},
   "outputs": [],
   "source": [
    "tool_call = run.required_action.submit_tool_outputs.tool_calls[0]\n",
    "function_name = tool_call.function.name\n",
    "arguments = json.loads(tool_call.function.arguments)"
   ]
  },
  {
   "cell_type": "code",
   "execution_count": 81,
   "id": "851d9d7e-0e74-4c40-9a0b-ac7fb37d48f5",
   "metadata": {},
   "outputs": [
    {
     "data": {
      "text/plain": [
       "'i am a pink panther'"
      ]
     },
     "execution_count": 81,
     "metadata": {},
     "output_type": "execute_result"
    }
   ],
   "source": [
    "function_response = execute_function_call(function_name, arguments)\n",
    "function_response"
   ]
  },
  {
   "cell_type": "markdown",
   "id": "f5eac4ee-71ab-47f3-9a76-1df53f286e40",
   "metadata": {},
   "source": [
    "Lets cheat and override that function response :p I want the answer to be food-related so that it is relevant to the asked question."
   ]
  },
  {
   "cell_type": "code",
   "execution_count": 82,
   "id": "d7cfd30b-b423-4d28-af5d-058aaa7bec25",
   "metadata": {},
   "outputs": [],
   "source": [
    "function_response = \"banana and flower\""
   ]
  },
  {
   "cell_type": "code",
   "execution_count": 83,
   "id": "17d0001a-f847-4e3a-a4e0-6e2fe980cd58",
   "metadata": {},
   "outputs": [],
   "source": [
    "run = client.beta.threads.runs.submit_tool_outputs(\n",
    "    thread_id=thread.id,\n",
    "    run_id=run.id,\n",
    "    tool_outputs=[\n",
    "        {\n",
    "            \"tool_call_id\": tool_call.id,\n",
    "            \"output\": json.dumps(function_response),\n",
    "        }\n",
    "    ],\n",
    ")\n",
    "#show_json(run)"
   ]
  },
  {
   "cell_type": "code",
   "execution_count": 84,
   "id": "530c136d-3ce5-4716-b4e7-c83899038bd9",
   "metadata": {},
   "outputs": [
    {
     "name": "stdout",
     "output_type": "stream",
     "text": [
      "# Messages\n",
      "user: What does a monkey eat?\n",
      "assistant: Monkeys eat bananas and flowers! They have quite a colorful diet, don't they? If you'd like to know more about monkeys or any other animals, just let me know!\n",
      "\n"
     ]
    }
   ],
   "source": [
    "run = wait_on_run(run, thread)\n",
    "pretty_print(get_response(thread))"
   ]
  },
  {
   "cell_type": "markdown",
   "id": "4cf4c87f-c687-446d-9a14-5cae60c79a1c",
   "metadata": {},
   "source": [
    "p/s: The judgement might be incorrect but thats it for this notebook. Thanks!"
   ]
  }
 ],
 "metadata": {
  "kernelspec": {
   "display_name": "Python (py311)",
   "language": "python",
   "name": "py311"
  },
  "language_info": {
   "codemirror_mode": {
    "name": "ipython",
    "version": 3
   },
   "file_extension": ".py",
   "mimetype": "text/x-python",
   "name": "python",
   "nbconvert_exporter": "python",
   "pygments_lexer": "ipython3",
   "version": "3.11.5"
  }
 },
 "nbformat": 4,
 "nbformat_minor": 5
}
